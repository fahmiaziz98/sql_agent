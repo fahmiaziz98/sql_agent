{
 "cells": [
  {
   "cell_type": "code",
   "execution_count": 156,
   "metadata": {},
   "outputs": [
    {
     "data": {
      "text/plain": [
       "True"
      ]
     },
     "execution_count": 156,
     "metadata": {},
     "output_type": "execute_result"
    }
   ],
   "source": [
    "from langchain_core.prompts import (\n",
    "    ChatPromptTemplate,\n",
    "    HumanMessagePromptTemplate,\n",
    "    AIMessagePromptTemplate,\n",
    "    SystemMessagePromptTemplate,\n",
    "    PromptTemplate\n",
    ")\n",
    "from langchain_groq import ChatGroq\n",
    "from langchain_core.output_parsers import StrOutputParser, JsonOutputParser\n",
    "from langchain_community.document_loaders.csv_loader import CSVLoader\n",
    "import pandas as pd\n",
    "import os\n",
    "\n",
    "from dotenv import load_dotenv, find_dotenv\n",
    "load_dotenv(find_dotenv())"
   ]
  },
  {
   "cell_type": "code",
   "execution_count": 157,
   "metadata": {},
   "outputs": [],
   "source": [
    "\n",
    "\n",
    "# Pastikan variabel lingkungan GROQ_API_KEY sudah ada\n",
    "api_key = os.getenv(\"groq_api_key\")\n",
    "if api_key is None:\n",
    "    raise ValueError(\"Did not find groq_api_key, please add an environment variable `GROQ_API_KEY` which contains it, or pass `groq_api_key` as a named parameter.\")"
   ]
  },
  {
   "cell_type": "code",
   "execution_count": 158,
   "metadata": {},
   "outputs": [],
   "source": [
    "# llm\n",
    "llm = ChatGroq(\n",
    "    model=\"llama3-8b-8192\",\n",
    "    api_key=api_key,\n",
    "    temperature=0,\n",
    "    model_kwargs={\n",
    "        \"top_p\": 0.95,\n",
    "        \"frequency_penalty\": 0.1,\n",
    "        \"presence_penalty\": 0.2,\n",
    "    },\n",
    "    verbose=True\n",
    ")"
   ]
  },
  {
   "cell_type": "code",
   "execution_count": 159,
   "metadata": {},
   "outputs": [],
   "source": [
    "user_query = \"What luxury hotels are available in Basel?\""
   ]
  },
  {
   "cell_type": "markdown",
   "metadata": {},
   "source": [
    "## Step 1: Identify the intent of user's query"
   ]
  },
  {
   "cell_type": "code",
   "execution_count": 160,
   "metadata": {},
   "outputs": [],
   "source": [
    "loader = CSVLoader(file_path=\"../data/few-shot/new_prompt_intents.csv\")\n",
    "doc_int = loader.load()"
   ]
  },
  {
   "cell_type": "code",
   "execution_count": 161,
   "metadata": {},
   "outputs": [
    {
     "name": "stdout",
     "output_type": "stream",
     "text": [
      "{'intent': 'FIND_HOTEL_OPTIONS'}\n"
     ]
    }
   ],
   "source": [
    "template = \"You are a helpful assistant capable of detecting the intent behind a user's query.\"\n",
    "prompt = PromptTemplate(\n",
    "    template=\"\"\"<|begin_of_text|><|start_header_id|>system<|end_header_id|>\n",
    "    You are a helpful assistant capable of detecting the intent behind a user's query. Your job is to extract relevant intent from user queries based on patterns in documents.\n",
    "    Respond with a JSON object. Provide no preamble or explanation.\n",
    "\n",
    "    example:\n",
    "    I'm booked on flight 30625 and my ticket number is 0060005435212386. Can you tell me my assigned seat?\n",
    "    intent=CHECK_SEAT_ASSIGNMENT\n",
    "\n",
    "    Documents:\n",
    "    {document}\n",
    "\n",
    "    Now, extract intents from the following user query:\n",
    "    {user_query}\n",
    "\n",
    "    <|eot_id|><|start_header_id|>assistant<|end_header_id|>\n",
    "    \"\"\",\n",
    "    input_variables=[\"user_query\", \"document\"],\n",
    ")\n",
    "\n",
    "detect_intent = prompt | llm | JsonOutputParser()\n",
    "intent = detect_intent.invoke({\"user_query\": user_query, \"document\": doc_int})\n",
    "print(intent)\n"
   ]
  },
  {
   "cell_type": "markdown",
   "metadata": {},
   "source": [
    "## Step 2: Extract the entities from the user query\n",
    "Load example prompt and completion pairs needed for entity recognition"
   ]
  },
  {
   "cell_type": "code",
   "execution_count": 162,
   "metadata": {},
   "outputs": [],
   "source": [
    "loader = CSVLoader(file_path=\"../data/few-shot/new_prompt_ner.csv\")\n",
    "doc = loader.load()"
   ]
  },
  {
   "cell_type": "code",
   "execution_count": 163,
   "metadata": {},
   "outputs": [
    {
     "name": "stdout",
     "output_type": "stream",
     "text": [
      "{'Location': 'Basel', 'Price Tier': 'Luxury', 'Attribute': 'Hotel Name'}\n"
     ]
    }
   ],
   "source": [
    "prompt = PromptTemplate(\n",
    "    template=\"\"\"<|begin_of_text|><|start_header_id|>system<|end_header_id|>\n",
    "    You are an AI assistant specializing in Named Entity Recognition (NER). Your task is to extract relevant entities from user queries based on patterns in documents. Follow these strict rules:\n",
    "\n",
    "    1. Always respond with a single JSON object. Do not provide any explanation or additional text.\n",
    "    2. Use lowercase keys in the JSON object.\n",
    "    3. For dates, convert them to YYYY-MM-DD format.\n",
    "    4. If no entities are found, return an empty JSON object:.\n",
    "\n",
    "    Examples:\n",
    "\n",
    "    example 1:\n",
    "    user_query: Fetch the reservations from the second week of October 2023\n",
    "    answer=Start Date: 2023-10-08, End Date: 2023-10-15\n",
    "    \n",
    "    example 2:\n",
    "    user_query: I want to know the busiest departure months in 2023.\n",
    "    answer=Year:'2023'\n",
    "\n",
    "    Documents:\n",
    "    {document}\n",
    "\n",
    "    Now, extract entities from the following user query:\n",
    "    {user_query}\n",
    "\n",
    "    <|eot_id|><|start_header_id|>assistant<|end_header_id|>\n",
    "    \"\"\",\n",
    "    input_variables=[\"user_query\", \"document\"],\n",
    ")\n",
    "\n",
    "ner_detect = prompt | llm | JsonOutputParser()\n",
    "ner = ner_detect.invoke({\"user_query\": user_query, \"document\": doc})\n",
    "print(ner[\"entities\"])\n"
   ]
  },
  {
   "cell_type": "markdown",
   "metadata": {},
   "source": [
    "## Step 3: Table mapping"
   ]
  },
  {
   "cell_type": "code",
   "execution_count": 164,
   "metadata": {},
   "outputs": [],
   "source": [
    "loader = CSVLoader(file_path=\"../data/few-shot/new_mapping.csv\")\n",
    "doc_map = loader.load()"
   ]
  },
  {
   "cell_type": "code",
   "execution_count": 165,
   "metadata": {},
   "outputs": [],
   "source": [
    "template = \"You are a helpful assistant capable of mapping detected intent to the correct list of SQLite tables.\""
   ]
  },
  {
   "cell_type": "code",
   "execution_count": 166,
   "metadata": {},
   "outputs": [
    {
     "name": "stdout",
     "output_type": "stream",
     "text": [
      "hotels\n"
     ]
    }
   ],
   "source": [
    "prompt = PromptTemplate(\n",
    "    template=\"\"\"<|begin_of_text|><|start_header_id|>system<|end_header_id|>\n",
    "    You are a helpful assistant capable of mapping detected intent to the correct list of SQLite tables.\n",
    "    Provide NO preamble or explanation\n",
    "\n",
    "    example:\n",
    "    intent=RETRIEVE_RESERVATIONS\n",
    "    answer=hotels|trip_recommendations|flights\n",
    "\n",
    "    Documents:\n",
    "    {document}\n",
    "\n",
    "    User Intent:\n",
    "    {intent}\n",
    "\n",
    "    <|eot_id|><|start_header_id|>assistant<|end_header_id|>\n",
    "    \"\"\",\n",
    "    input_variables=[\"intent\", \"document\"],\n",
    ")\n",
    "\n",
    "detect_map = prompt | llm | StrOutputParser()\n",
    "result_map = detect_map.invoke({\"intent\": intent[\"intent\"], \"document\": doc_map})\n",
    "print(result_map)\n"
   ]
  },
  {
   "cell_type": "markdown",
   "metadata": {},
   "source": [
    "## Step 4: Load and filter table schemas"
   ]
  },
  {
   "cell_type": "code",
   "execution_count": 167,
   "metadata": {},
   "outputs": [],
   "source": [
    "from langchain_community.utilities.sql_database import SQLDatabase\n",
    "\n",
    "db = SQLDatabase.from_uri(\"sqlite:///travel.sqlite\")"
   ]
  },
  {
   "cell_type": "code",
   "execution_count": 168,
   "metadata": {},
   "outputs": [
    {
     "name": "stdout",
     "output_type": "stream",
     "text": [
      "\n",
      "CREATE TABLE aircrafts_data (\n",
      "\taircraft_code TEXT, \n",
      "\tmodel TEXT, \n",
      "\trange INTEGER\n",
      ")\n",
      "\n",
      "/*\n",
      "3 rows from aircrafts_data table:\n",
      "aircraft_code\tmodel\trange\n",
      "773\tBoeing 777-300\t11100\n",
      "763\tBoeing 767-300\t7900\n",
      "SU9\tSukhoi Superjet-100\t3000\n",
      "*/\n",
      "\n",
      "\n",
      "CREATE TABLE airports_data (\n",
      "\tairport_code TEXT, \n",
      "\tairport_name TEXT, \n",
      "\tcity TEXT, \n",
      "\tcoordinates TEXT, \n",
      "\ttimezone TEXT\n",
      ")\n",
      "\n",
      "/*\n",
      "3 rows from airports_data table:\n",
      "airport_code\tairport_name\tcity\tcoordinates\ttimezone\n",
      "ATL\tHartsfield-Jackson Atlanta International Airport\tAtlanta\t[33.6407, -84.4277]\tAmerica/New_York\n",
      "PEK\tBeijing Capital International Airport\tBeijing\t[40.0799, 116.6031]\tAsia/Shanghai\n",
      "DXB\tDubai International Airport\tDubai\t[25.2532, 55.3657]\tAsia/Dubai\n",
      "*/\n",
      "\n",
      "\n",
      "CREATE TABLE boarding_passes (\n",
      "\tticket_no TEXT, \n",
      "\tflight_id INTEGER, \n",
      "\tboarding_no INTEGER, \n",
      "\tseat_no TEXT\n",
      ")\n",
      "\n",
      "/*\n",
      "3 rows from boarding_passes table:\n",
      "ticket_no\tflight_id\tboarding_no\tseat_no\n",
      "0060005435212351\t30625\t1\t2D\n",
      "0060005435212386\t30625\t2\t3G\n",
      "0060005435212381\t30625\t3\t4H\n",
      "*/\n",
      "\n",
      "\n",
      "CREATE TABLE bookings (\n",
      "\tbook_ref TEXT, \n",
      "\tbook_date TIMESTAMP, \n",
      "\ttotal_amount INTEGER\n",
      ")\n",
      "\n",
      "/*\n",
      "3 rows from bookings table:\n",
      "book_ref\tbook_date\ttotal_amount\n",
      "00000F\t2024-03-20 01:21:03.561731+00:00\t265700\n",
      "000012\t2024-03-29 07:11:03.561731+00:00\t37900\n",
      "000068\t2024-04-30 12:36:03.561731+00:00\t18100\n",
      "*/\n",
      "\n",
      "\n",
      "CREATE TABLE car_rentals (\n",
      "\tid INTEGER, \n",
      "\tname TEXT NOT NULL, \n",
      "\tlocation TEXT NOT NULL, \n",
      "\tprice_tier TEXT NOT NULL, \n",
      "\tstart_date DATE NOT NULL, \n",
      "\tend_date DATE NOT NULL, \n",
      "\tbooked INTEGER DEFAULT 0, \n",
      "\tPRIMARY KEY (id)\n",
      ")\n",
      "\n",
      "/*\n",
      "3 rows from car_rentals table:\n",
      "id\tname\tlocation\tprice_tier\tstart_date\tend_date\tbooked\n",
      "1\tEuropcar\tBasel\tEconomy\t2024-04-14\t2024-04-11\t0\n",
      "2\tAvis\tBasel\tLuxury\t2024-04-10\t2024-04-20\t0\n",
      "3\tHertz\tZurich\tMidsize\t2024-04-10\t2024-04-07\t0\n",
      "*/\n",
      "\n",
      "\n",
      "CREATE TABLE flights (\n",
      "\tflight_id INTEGER, \n",
      "\tflight_no TEXT, \n",
      "\tscheduled_departure TIMESTAMP, \n",
      "\tscheduled_arrival TIMESTAMP, \n",
      "\tdeparture_airport TEXT, \n",
      "\tarrival_airport TEXT, \n",
      "\tstatus TEXT, \n",
      "\taircraft_code TEXT, \n",
      "\tactual_departure TIMESTAMP, \n",
      "\tactual_arrival TIMESTAMP\n",
      ")\n",
      "\n",
      "/*\n",
      "3 rows from flights table:\n",
      "flight_id\tflight_no\tscheduled_departure\tscheduled_arrival\tdeparture_airport\tarrival_airport\tstatus\taircraft_code\tactual_departure\tactual_arrival\n",
      "1185\tQR0051\t2024-05-26 03:59:03.561731-04:00\t2024-05-26 09:04:03.561731-04:00\tBSL\tBKK\tScheduled\t319\tNone\tNone\n",
      "3979\tMU0066\t2024-05-10 08:59:03.561731-04:00\t2024-05-10 11:44:03.561731-04:00\tSHA\tCUN\tScheduled\tCR2\tNone\tNone\n",
      "4739\tQF0126\t2024-05-21 06:39:03.561731-04:00\t2024-05-21 08:24:03.561731-04:00\tSHA\tAMS\tScheduled\t763\tNone\tNone\n",
      "*/\n",
      "\n",
      "\n",
      "CREATE TABLE hotels (\n",
      "\tid INTEGER, \n",
      "\tname TEXT NOT NULL, \n",
      "\tlocation TEXT NOT NULL, \n",
      "\tprice_tier TEXT NOT NULL, \n",
      "\tcheckin_date DATE NOT NULL, \n",
      "\tcheckout_date DATE NOT NULL, \n",
      "\tbooked INTEGER DEFAULT 0, \n",
      "\tPRIMARY KEY (id)\n",
      ")\n",
      "\n",
      "/*\n",
      "3 rows from hotels table:\n",
      "id\tname\tlocation\tprice_tier\tcheckin_date\tcheckout_date\tbooked\n",
      "1\tHilton Basel\tBasel\tLuxury\t2024-04-22\t2024-04-20\t0\n",
      "2\tMarriott Zurich\tZurich\tUpscale\t2024-04-14\t2024-04-21\t0\n",
      "3\tHyatt Regency Basel\tBasel\tUpper Upscale\t2024-04-02\t2024-04-20\t0\n",
      "*/\n",
      "\n",
      "\n",
      "CREATE TABLE seats (\n",
      "\taircraft_code TEXT, \n",
      "\tseat_no TEXT, \n",
      "\tfare_conditions TEXT\n",
      ")\n",
      "\n",
      "/*\n",
      "3 rows from seats table:\n",
      "aircraft_code\tseat_no\tfare_conditions\n",
      "319\t2A\tBusiness\n",
      "319\t2C\tBusiness\n",
      "319\t2D\tBusiness\n",
      "*/\n",
      "\n",
      "\n",
      "CREATE TABLE ticket_flights (\n",
      "\tticket_no TEXT, \n",
      "\tflight_id INTEGER, \n",
      "\tfare_conditions TEXT, \n",
      "\tamount INTEGER\n",
      ")\n",
      "\n",
      "/*\n",
      "3 rows from ticket_flights table:\n",
      "ticket_no\tflight_id\tfare_conditions\tamount\n",
      "0060005432159776\t30625\tBusiness\t42100\n",
      "0060005435212351\t30625\tBusiness\t42100\n",
      "0060005435212386\t30625\tBusiness\t42100\n",
      "*/\n",
      "\n",
      "\n",
      "CREATE TABLE tickets (\n",
      "\tticket_no TEXT, \n",
      "\tbook_ref TEXT, \n",
      "\tpassenger_id TEXT\n",
      ")\n",
      "\n",
      "/*\n",
      "3 rows from tickets table:\n",
      "ticket_no\tbook_ref\tpassenger_id\n",
      "9880005432000987\t06B046\t8149 604011\n",
      "9880005432000988\t06B046\t8499 420203\n",
      "9880005432000989\tE170C3\t1011 752484\n",
      "*/\n",
      "\n",
      "\n",
      "CREATE TABLE trip_recommendations (\n",
      "\tid INTEGER, \n",
      "\tname TEXT NOT NULL, \n",
      "\tlocation TEXT NOT NULL, \n",
      "\tkeywords TEXT NOT NULL, \n",
      "\tdetails TEXT, \n",
      "\tbooked INTEGER DEFAULT 0, \n",
      "\tPRIMARY KEY (id)\n",
      ")\n",
      "\n",
      "/*\n",
      "3 rows from trip_recommendations table:\n",
      "id\tname\tlocation\tkeywords\tdetails\tbooked\n",
      "1\tBasel Minster\tBasel\tlandmark, history\tVisit the historic Basel Minster, a beautiful Gothic cathedral.\t0\n",
      "2\tKunstmuseum Basel\tBasel\tart, museum\tExplore the extensive art collection at the Kunstmuseum Basel.\t0\n",
      "3\tZurich Old Town\tZurich\thistory, architecture\tTake a stroll through the charming streets of Zurich's Old Town.\t0\n",
      "*/\n"
     ]
    }
   ],
   "source": [
    "from langchain_community.agent_toolkits import SQLDatabaseToolkit\n",
    "\n",
    "toolkit = SQLDatabaseToolkit(db=db, llm=llm)\n",
    "context = toolkit.get_context()\n",
    "\n",
    "print(context[\"table_info\"])"
   ]
  },
  {
   "cell_type": "markdown",
   "metadata": {},
   "source": [
    "## Step 6: Text-to-SQL"
   ]
  },
  {
   "cell_type": "code",
   "execution_count": 169,
   "metadata": {},
   "outputs": [
    {
     "name": "stdout",
     "output_type": "stream",
     "text": [
      "To answer the user query \"What luxury hotels are available in Basel?\" using the provided SQL tables, we can use the following SQL query:\n",
      "\n",
      "```sql\n",
      "SELECT * \n",
      "FROM hotels \n",
      "WHERE location = 'Basel' AND price_tier = 'Luxury' AND booked = 0;\n",
      "```\n",
      "\n",
      "This query will return all luxury hotels in Basel that are currently available (i.e., booked = 0).\n"
     ]
    }
   ],
   "source": [
    "prompt = PromptTemplate(\n",
    "    template=\"\"\"<|begin_of_text|><|start_header_id|>system<|end_header_id|>\n",
    "    You are a SQL master expert capable of writing complex SQL query in SQLite.\n",
    "    Please construct a SQL query using the information provided below:\n",
    "\n",
    "    Input Parameters:\n",
    "    -----------------\n",
    "    INTENT: {intent}\n",
    "    EXTRACTED_ENTITIES: {entities}\n",
    "    MAPPED_TABLES: {tables}\n",
    "\n",
    "    User Query:\n",
    "    -----------\n",
    "    {user_query}\n",
    "\n",
    "    Table Schemas:\n",
    "    --------------\n",
    "    {table_schemas}\n",
    "\n",
    "    <|eot_id|><|start_header_id|>assistant<|end_header_id|>\n",
    "    \"\"\",\n",
    "    input_variables=[\"intent\", \"entities\", \"tables\", \"user_query\", \"table_schemas\"],\n",
    ")\n",
    "\n",
    "sql_generate = prompt | llm | StrOutputParser()\n",
    "sql_gen = sql_generate.invoke(\n",
    "    {\n",
    "        \"intent\": intent[\"intent\"], \n",
    "        \"entities\": ner[\"entities\"], \n",
    "        \"tables\": result_map, \n",
    "        \"user_query\": user_query, \n",
    "        \"table_schemas\": context[\"table_info\"]\n",
    "    }\n",
    ")\n",
    "print(sql_gen)\n"
   ]
  },
  {
   "cell_type": "code",
   "execution_count": 171,
   "metadata": {},
   "outputs": [
    {
     "data": {
      "text/plain": [
       "\"[(1, 'Hilton Basel', 'Basel', 'Luxury', '2024-04-22', '2024-04-20', 0)]\""
      ]
     },
     "execution_count": 171,
     "metadata": {},
     "output_type": "execute_result"
    }
   ],
   "source": [
    "QUERY = \"\"\"\n",
    "SELECT * \n",
    "FROM hotels \n",
    "WHERE location = 'Basel' AND price_tier = 'Luxury' AND booked = 0;\n",
    "\"\"\"\n",
    "\n",
    "# print(user_query)\n",
    "db.run(QUERY)\n"
   ]
  },
  {
   "cell_type": "markdown",
   "metadata": {},
   "source": [
    "## Step 7: Transform SQL results into a human friendly response"
   ]
  }
 ],
 "metadata": {
  "kernelspec": {
   "display_name": "llm",
   "language": "python",
   "name": "python3"
  },
  "language_info": {
   "codemirror_mode": {
    "name": "ipython",
    "version": 3
   },
   "file_extension": ".py",
   "mimetype": "text/x-python",
   "name": "python",
   "nbconvert_exporter": "python",
   "pygments_lexer": "ipython3",
   "version": "3.10.12"
  }
 },
 "nbformat": 4,
 "nbformat_minor": 2
}

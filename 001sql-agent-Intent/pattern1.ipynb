{
 "cells": [
  {
   "cell_type": "code",
   "execution_count": 4,
   "metadata": {},
   "outputs": [
    {
     "data": {
      "text/plain": [
       "True"
      ]
     },
     "execution_count": 4,
     "metadata": {},
     "output_type": "execute_result"
    }
   ],
   "source": [
    "from langchain_core.prompts import (\n",
    "    ChatPromptTemplate,\n",
    "    HumanMessagePromptTemplate,\n",
    "    AIMessagePromptTemplate,\n",
    "    SystemMessagePromptTemplate,\n",
    "    PromptTemplate\n",
    ")\n",
    "from langchain_groq import ChatGroq\n",
    "from langchain_core.output_parsers import StrOutputParser, JsonOutputParser\n",
    "from langchain_community.document_loaders.csv_loader import CSVLoader\n",
    "import pandas as pd\n",
    "import os\n",
    "\n",
    "from dotenv import load_dotenv, find_dotenv\n",
    "load_dotenv(find_dotenv())"
   ]
  },
  {
   "cell_type": "code",
   "execution_count": 5,
   "metadata": {},
   "outputs": [],
   "source": [
    "\n",
    "\n",
    "# Pastikan variabel lingkungan GROQ_API_KEY sudah ada\n",
    "api_key = os.getenv(\"groq_api_key\")\n",
    "if api_key is None:\n",
    "    raise ValueError(\"Did not find groq_api_key, please add an environment variable `GROQ_API_KEY` which contains it, or pass `groq_api_key` as a named parameter.\")"
   ]
  },
  {
   "cell_type": "code",
   "execution_count": 6,
   "metadata": {},
   "outputs": [],
   "source": [
    "# llm\n",
    "llm = ChatGroq(\n",
    "    model=\"llama3-8b-8192\",\n",
    "    api_key=api_key,\n",
    "    temperature=0,\n",
    "    model_kwargs={\n",
    "        \"top_p\": 0.95,\n",
    "        \"frequency_penalty\": 0.1,\n",
    "        \"presence_penalty\": 0.2,\n",
    "    },\n",
    "    verbose=True\n",
    ")"
   ]
  },
  {
   "cell_type": "code",
   "execution_count": 7,
   "metadata": {},
   "outputs": [],
   "source": [
    "user_query = \"What luxury hotels are available in Basel?\""
   ]
  },
  {
   "cell_type": "markdown",
   "metadata": {},
   "source": [
    "## Step 1: Identify the intent of user's query"
   ]
  },
  {
   "cell_type": "code",
   "execution_count": 8,
   "metadata": {},
   "outputs": [],
   "source": [
    "loader = CSVLoader(file_path=\"../data/few-shot/new_prompt_intents.csv\")\n",
    "doc_int = loader.load()"
   ]
  },
  {
   "cell_type": "code",
   "execution_count": 9,
   "metadata": {},
   "outputs": [
    {
     "name": "stdout",
     "output_type": "stream",
     "text": [
      "{'intent': 'FIND_HOTEL_OPTIONS'}\n"
     ]
    }
   ],
   "source": [
    "template = \"You are a helpful assistant capable of detecting the intent behind a user's query.\"\n",
    "prompt = PromptTemplate(\n",
    "    template=\"\"\"<|begin_of_text|><|start_header_id|>system<|end_header_id|>\n",
    "    You are a helpful assistant capable of detecting the intent behind a user's query. Your job is to extract relevant intent from user queries based on patterns in documents.\n",
    "    Respond with a JSON object. Provide no preamble or explanation.\n",
    "\n",
    "    example:\n",
    "    I'm booked on flight 30625 and my ticket number is 0060005435212386. Can you tell me my assigned seat?\n",
    "    intent=CHECK_SEAT_ASSIGNMENT\n",
    "\n",
    "    Documents:\n",
    "    {document}\n",
    "\n",
    "    Now, extract intents from the following user query:\n",
    "    {user_query}\n",
    "\n",
    "    <|eot_id|><|start_header_id|>assistant<|end_header_id|>\n",
    "    \"\"\",\n",
    "    input_variables=[\"user_query\", \"document\"],\n",
    ")\n",
    "\n",
    "detect_intent = prompt | llm | JsonOutputParser()\n",
    "intent = detect_intent.invoke({\"user_query\": user_query, \"document\": doc_int})\n",
    "print(intent)\n"
   ]
  },
  {
   "cell_type": "markdown",
   "metadata": {},
   "source": [
    "## Step 2: Extract the entities from the user query\n",
    "Load example prompt and completion pairs needed for entity recognition"
   ]
  },
  {
   "cell_type": "code",
   "execution_count": 10,
   "metadata": {},
   "outputs": [],
   "source": [
    "loader = CSVLoader(file_path=\"../data/few-shot/new_prompt_ner.csv\")\n",
    "doc = loader.load()"
   ]
  },
  {
   "cell_type": "code",
   "execution_count": 11,
   "metadata": {},
   "outputs": [
    {
     "name": "stdout",
     "output_type": "stream",
     "text": [
      "{'Location': 'Basel', 'Price Tier': 'Luxury', 'Attribute': 'Hotel Name'}\n"
     ]
    }
   ],
   "source": [
    "prompt = PromptTemplate(\n",
    "    template=\"\"\"<|begin_of_text|><|start_header_id|>system<|end_header_id|>\n",
    "    You are an AI assistant specializing in Named Entity Recognition (NER). Your task is to extract relevant entities from user queries based on patterns in documents. Follow these strict rules:\n",
    "\n",
    "    1. Always respond with a single JSON object. Do not provide any explanation or additional text.\n",
    "    2. Use lowercase keys in the JSON object.\n",
    "    3. For dates, convert them to YYYY-MM-DD format.\n",
    "    4. If no entities are found, return an empty JSON object:.\n",
    "\n",
    "    Examples:\n",
    "\n",
    "    example 1:\n",
    "    user_query: Fetch the reservations from the second week of October 2023\n",
    "    answer=Start Date: 2023-10-08, End Date: 2023-10-15\n",
    "    \n",
    "    example 2:\n",
    "    user_query: I want to know the busiest departure months in 2023.\n",
    "    answer=Year:'2023'\n",
    "\n",
    "    Documents:\n",
    "    {document}\n",
    "\n",
    "    Now, extract entities from the following user query:\n",
    "    {user_query}\n",
    "\n",
    "    <|eot_id|><|start_header_id|>assistant<|end_header_id|>\n",
    "    \"\"\",\n",
    "    input_variables=[\"user_query\", \"document\"],\n",
    ")\n",
    "\n",
    "ner_detect = prompt | llm | JsonOutputParser()\n",
    "ner = ner_detect.invoke({\"user_query\": user_query, \"document\": doc})\n",
    "print(ner[\"entities\"])\n"
   ]
  },
  {
   "cell_type": "markdown",
   "metadata": {},
   "source": [
    "## Step 3: Table mapping"
   ]
  },
  {
   "cell_type": "code",
   "execution_count": 12,
   "metadata": {},
   "outputs": [],
   "source": [
    "loader = CSVLoader(file_path=\"../data/few-shot/new_mapping.csv\")\n",
    "doc_map = loader.load()"
   ]
  },
  {
   "cell_type": "code",
   "execution_count": 13,
   "metadata": {},
   "outputs": [],
   "source": [
    "template = \"You are a helpful assistant capable of mapping detected intent to the correct list of SQLite tables.\""
   ]
  },
  {
   "cell_type": "code",
   "execution_count": 14,
   "metadata": {},
   "outputs": [
    {
     "name": "stdout",
     "output_type": "stream",
     "text": [
      "hotels\n"
     ]
    }
   ],
   "source": [
    "prompt = PromptTemplate(\n",
    "    template=\"\"\"<|begin_of_text|><|start_header_id|>system<|end_header_id|>\n",
    "    You are a helpful assistant capable of mapping detected intent to the correct list of SQLite tables.\n",
    "    Provide NO preamble or explanation\n",
    "\n",
    "    example:\n",
    "    intent=RETRIEVE_RESERVATIONS\n",
    "    answer=hotels|trip_recommendations|flights\n",
    "\n",
    "    Documents:\n",
    "    {document}\n",
    "\n",
    "    User Intent:\n",
    "    {intent}\n",
    "\n",
    "    <|eot_id|><|start_header_id|>assistant<|end_header_id|>\n",
    "    \"\"\",\n",
    "    input_variables=[\"intent\", \"document\"],\n",
    ")\n",
    "\n",
    "detect_map = prompt | llm | StrOutputParser()\n",
    "result_map = detect_map.invoke({\"intent\": intent[\"intent\"], \"document\": doc_map})\n",
    "print(result_map)\n"
   ]
  },
  {
   "cell_type": "markdown",
   "metadata": {},
   "source": [
    "## Step 4: Load and filter table schemas"
   ]
  },
  {
   "cell_type": "code",
   "execution_count": 15,
   "metadata": {},
   "outputs": [],
   "source": [
    "from langchain_community.utilities.sql_database import SQLDatabase\n",
    "\n",
    "db = SQLDatabase.from_uri(\"sqlite:///../data/travel.sqlite\")"
   ]
  },
  {
   "cell_type": "code",
   "execution_count": 16,
   "metadata": {},
   "outputs": [
    {
     "name": "stdout",
     "output_type": "stream",
     "text": [
      "\n",
      "CREATE TABLE aircrafts_data (\n",
      "\taircraft_code TEXT, \n",
      "\tmodel TEXT, \n",
      "\trange INTEGER\n",
      ")\n",
      "\n",
      "/*\n",
      "3 rows from aircrafts_data table:\n",
      "aircraft_code\tmodel\trange\n",
      "773\tBoeing 777-300\t11100\n",
      "763\tBoeing 767-300\t7900\n",
      "SU9\tSukhoi Superjet-100\t3000\n",
      "*/\n",
      "\n",
      "\n",
      "CREATE TABLE airports_data (\n",
      "\tairport_code TEXT, \n",
      "\tairport_name TEXT, \n",
      "\tcity TEXT, \n",
      "\tcoordinates TEXT, \n",
      "\ttimezone TEXT\n",
      ")\n",
      "\n",
      "/*\n",
      "3 rows from airports_data table:\n",
      "airport_code\tairport_name\tcity\tcoordinates\ttimezone\n",
      "ATL\tHartsfield-Jackson Atlanta International Airport\tAtlanta\t[33.6407, -84.4277]\tAmerica/New_York\n",
      "PEK\tBeijing Capital International Airport\tBeijing\t[40.0799, 116.6031]\tAsia/Shanghai\n",
      "DXB\tDubai International Airport\tDubai\t[25.2532, 55.3657]\tAsia/Dubai\n",
      "*/\n",
      "\n",
      "\n",
      "CREATE TABLE boarding_passes (\n",
      "\tticket_no TEXT, \n",
      "\tflight_id INTEGER, \n",
      "\tboarding_no INTEGER, \n",
      "\tseat_no TEXT\n",
      ")\n",
      "\n",
      "/*\n",
      "3 rows from boarding_passes table:\n",
      "ticket_no\tflight_id\tboarding_no\tseat_no\n",
      "0060005435212351\t30625\t1\t2D\n",
      "0060005435212386\t30625\t2\t3G\n",
      "0060005435212381\t30625\t3\t4H\n",
      "*/\n",
      "\n",
      "\n",
      "CREATE TABLE bookings (\n",
      "\tbook_ref TEXT, \n",
      "\tbook_date TIMESTAMP, \n",
      "\ttotal_amount INTEGER\n",
      ")\n",
      "\n",
      "/*\n",
      "3 rows from bookings table:\n",
      "book_ref\tbook_date\ttotal_amount\n",
      "00000F\t2024-03-20 01:21:03.561731+00:00\t265700\n",
      "000012\t2024-03-29 07:11:03.561731+00:00\t37900\n",
      "000068\t2024-04-30 12:36:03.561731+00:00\t18100\n",
      "*/\n",
      "\n",
      "\n",
      "CREATE TABLE car_rentals (\n",
      "\tid INTEGER, \n",
      "\tname TEXT NOT NULL, \n",
      "\tlocation TEXT NOT NULL, \n",
      "\tprice_tier TEXT NOT NULL, \n",
      "\tstart_date DATE NOT NULL, \n",
      "\tend_date DATE NOT NULL, \n",
      "\tbooked INTEGER DEFAULT 0, \n",
      "\tPRIMARY KEY (id)\n",
      ")\n",
      "\n",
      "/*\n",
      "3 rows from car_rentals table:\n",
      "id\tname\tlocation\tprice_tier\tstart_date\tend_date\tbooked\n",
      "1\tEuropcar\tBasel\tEconomy\t2024-04-14\t2024-04-11\t0\n",
      "2\tAvis\tBasel\tLuxury\t2024-04-10\t2024-04-20\t0\n",
      "3\tHertz\tZurich\tMidsize\t2024-04-10\t2024-04-07\t0\n",
      "*/\n",
      "\n",
      "\n",
      "CREATE TABLE flights (\n",
      "\tflight_id INTEGER, \n",
      "\tflight_no TEXT, \n",
      "\tscheduled_departure TIMESTAMP, \n",
      "\tscheduled_arrival TIMESTAMP, \n",
      "\tdeparture_airport TEXT, \n",
      "\tarrival_airport TEXT, \n",
      "\tstatus TEXT, \n",
      "\taircraft_code TEXT, \n",
      "\tactual_departure TIMESTAMP, \n",
      "\tactual_arrival TIMESTAMP\n",
      ")\n",
      "\n",
      "/*\n",
      "3 rows from flights table:\n",
      "flight_id\tflight_no\tscheduled_departure\tscheduled_arrival\tdeparture_airport\tarrival_airport\tstatus\taircraft_code\tactual_departure\tactual_arrival\n",
      "1185\tQR0051\t2024-05-26 03:59:03.561731-04:00\t2024-05-26 09:04:03.561731-04:00\tBSL\tBKK\tScheduled\t319\tNone\tNone\n",
      "3979\tMU0066\t2024-05-10 08:59:03.561731-04:00\t2024-05-10 11:44:03.561731-04:00\tSHA\tCUN\tScheduled\tCR2\tNone\tNone\n",
      "4739\tQF0126\t2024-05-21 06:39:03.561731-04:00\t2024-05-21 08:24:03.561731-04:00\tSHA\tAMS\tScheduled\t763\tNone\tNone\n",
      "*/\n",
      "\n",
      "\n",
      "CREATE TABLE hotels (\n",
      "\tid INTEGER, \n",
      "\tname TEXT NOT NULL, \n",
      "\tlocation TEXT NOT NULL, \n",
      "\tprice_tier TEXT NOT NULL, \n",
      "\tcheckin_date DATE NOT NULL, \n",
      "\tcheckout_date DATE NOT NULL, \n",
      "\tbooked INTEGER DEFAULT 0, \n",
      "\tPRIMARY KEY (id)\n",
      ")\n",
      "\n",
      "/*\n",
      "3 rows from hotels table:\n",
      "id\tname\tlocation\tprice_tier\tcheckin_date\tcheckout_date\tbooked\n",
      "1\tHilton Basel\tBasel\tLuxury\t2024-04-22\t2024-04-20\t0\n",
      "2\tMarriott Zurich\tZurich\tUpscale\t2024-04-14\t2024-04-21\t0\n",
      "3\tHyatt Regency Basel\tBasel\tUpper Upscale\t2024-04-02\t2024-04-20\t0\n",
      "*/\n",
      "\n",
      "\n",
      "CREATE TABLE seats (\n",
      "\taircraft_code TEXT, \n",
      "\tseat_no TEXT, \n",
      "\tfare_conditions TEXT\n",
      ")\n",
      "\n",
      "/*\n",
      "3 rows from seats table:\n",
      "aircraft_code\tseat_no\tfare_conditions\n",
      "319\t2A\tBusiness\n",
      "319\t2C\tBusiness\n",
      "319\t2D\tBusiness\n",
      "*/\n",
      "\n",
      "\n",
      "CREATE TABLE ticket_flights (\n",
      "\tticket_no TEXT, \n",
      "\tflight_id INTEGER, \n",
      "\tfare_conditions TEXT, \n",
      "\tamount INTEGER\n",
      ")\n",
      "\n",
      "/*\n",
      "3 rows from ticket_flights table:\n",
      "ticket_no\tflight_id\tfare_conditions\tamount\n",
      "0060005432159776\t30625\tBusiness\t42100\n",
      "0060005435212351\t30625\tBusiness\t42100\n",
      "0060005435212386\t30625\tBusiness\t42100\n",
      "*/\n",
      "\n",
      "\n",
      "CREATE TABLE tickets (\n",
      "\tticket_no TEXT, \n",
      "\tbook_ref TEXT, \n",
      "\tpassenger_id TEXT\n",
      ")\n",
      "\n",
      "/*\n",
      "3 rows from tickets table:\n",
      "ticket_no\tbook_ref\tpassenger_id\n",
      "9880005432000987\t06B046\t8149 604011\n",
      "9880005432000988\t06B046\t8499 420203\n",
      "9880005432000989\tE170C3\t1011 752484\n",
      "*/\n",
      "\n",
      "\n",
      "CREATE TABLE trip_recommendations (\n",
      "\tid INTEGER, \n",
      "\tname TEXT NOT NULL, \n",
      "\tlocation TEXT NOT NULL, \n",
      "\tkeywords TEXT NOT NULL, \n",
      "\tdetails TEXT, \n",
      "\tbooked INTEGER DEFAULT 0, \n",
      "\tPRIMARY KEY (id)\n",
      ")\n",
      "\n",
      "/*\n",
      "3 rows from trip_recommendations table:\n",
      "id\tname\tlocation\tkeywords\tdetails\tbooked\n",
      "1\tBasel Minster\tBasel\tlandmark, history\tVisit the historic Basel Minster, a beautiful Gothic cathedral.\t0\n",
      "2\tKunstmuseum Basel\tBasel\tart, museum\tExplore the extensive art collection at the Kunstmuseum Basel.\t0\n",
      "3\tZurich Old Town\tZurich\thistory, architecture\tTake a stroll through the charming streets of Zurich's Old Town.\t0\n",
      "*/\n"
     ]
    }
   ],
   "source": [
    "from langchain_community.agent_toolkits import SQLDatabaseToolkit\n",
    "\n",
    "toolkit = SQLDatabaseToolkit(db=db, llm=llm)\n",
    "context = toolkit.get_context()\n",
    "\n",
    "print(context[\"table_info\"])"
   ]
  },
  {
   "cell_type": "markdown",
   "metadata": {},
   "source": [
    "## Step 6: Text-to-SQL"
   ]
  },
  {
   "cell_type": "code",
   "execution_count": 22,
   "metadata": {},
   "outputs": [
    {
     "name": "stdout",
     "output_type": "stream",
     "text": [
      "SELECT h.name \n",
      "FROM hotels h \n",
      "WHERE h.location = 'Basel' \n",
      "AND h.price_tier = 'Luxury';\n"
     ]
    }
   ],
   "source": [
    "prompt = PromptTemplate(\n",
    "    template=\"\"\"<|begin_of_text|><|start_header_id|>system<|end_header_id|>\n",
    "    You are a SQL master expert specializing in writing complex SQL queries for SQLite. Your task is to construct a SQL query based on the provided information. Follow these strict rules:\n",
    "\n",
    "    1. Generate ONLY the SQL query. Do not provide any explanations, comments, or additional text.\n",
    "    2. Ensure the query is complete and executable in SQLite.\n",
    "    3. Use the provided input parameters, user query, and table schemas to construct the most appropriate query.\n",
    "    4. If multiple tables need to be joined, use the appropriate JOIN clauses.\n",
    "    5. Include WHERE clauses to filter results based on the extracted entities.\n",
    "    6. If sorting is implied by the user query, include an ORDER BY clause.\n",
    "    7. If the query implies a limit on the number of results, include a LIMIT clause.\n",
    "\n",
    "    Input Parameters:\n",
    "    -----------------\n",
    "    INTENT: {intent}\n",
    "    EXTRACTED_ENTITIES: {entities}\n",
    "    MAPPED_TABLES: {tables}\n",
    "\n",
    "    User Query:\n",
    "    -----------\n",
    "    {user_query}\n",
    "\n",
    "    Table Schemas:\n",
    "    --------------\n",
    "    {table_schemas}\n",
    "\n",
    "    <|eot_id|><|start_header_id|>assistant<|end_header_id|>\n",
    "    \"\"\",\n",
    "    input_variables=[\"intent\", \"entities\", \"tables\", \"user_query\", \"table_schemas\"],\n",
    ")\n",
    "\n",
    "sql_generate = prompt | llm | StrOutputParser()\n",
    "sql_gen = sql_generate.invoke(\n",
    "    {\n",
    "        \"intent\": intent[\"intent\"], \n",
    "        \"entities\": ner[\"entities\"], \n",
    "        \"tables\": result_map, \n",
    "        \"user_query\": user_query, \n",
    "        \"table_schemas\": context[\"table_info\"]\n",
    "    }\n",
    ")\n",
    "print(sql_gen)\n"
   ]
  },
  {
   "cell_type": "code",
   "execution_count": 26,
   "metadata": {},
   "outputs": [
    {
     "name": "stdout",
     "output_type": "stream",
     "text": [
      "[('Hilton Basel',)]\n"
     ]
    }
   ],
   "source": [
    "QUERY = \"\"\"\n",
    "SELECT * \n",
    "FROM hotels \n",
    "WHERE location = 'Basel' AND price_tier = 'Luxury' AND booked = 0;\n",
    "\"\"\"\n",
    "\n",
    "# print(user_query)\n",
    "result = db.run(sql_gen)\n",
    "print(result)\n"
   ]
  },
  {
   "cell_type": "markdown",
   "metadata": {},
   "source": [
    "## Step 7: Transform SQL results into a human friendly response"
   ]
  },
  {
   "cell_type": "code",
   "execution_count": 47,
   "metadata": {},
   "outputs": [
    {
     "name": "stdout",
     "output_type": "stream",
     "text": [
      "Hello there! Thank you for reaching out to us about your travel plans to Basel. I'd be delighted to help you find a luxurious place to stay.\n",
      "\n",
      "I've checked our database, and I'm happy to report that we have a fantastic option for you: the Hilton Basel! This 5-star hotel is located in the heart of Basel, offering stunning views of the Rhine River and the city's picturesque old town. The hotel features modern rooms, a fitness center, and an on-site restaurant serving delicious local cuisine.\n",
      "\n",
      "If you're looking for a luxurious retreat during your stay in Basel, the Hilton Basel is an excellent choice. Would you like me to provide more information or make a booking for you?\n"
     ]
    }
   ],
   "source": [
    "prompt = PromptTemplate(\n",
    "    template=\"\"\"<|begin_of_text|><|start_header_id|>system<|end_header_id|>\n",
    "You are a friendly and helpful travel assistant named Alex, working for a prestigious airline. Your role is to assist customers with their travel inquiries in a warm, professional manner. Always maintain a positive and supportive tone.\n",
    "\n",
    "User's Question:\n",
    "----------------\n",
    "{user_query}\n",
    "\n",
    "SQL Result:\n",
    "----------------\n",
    "{sql_response}\n",
    "\n",
    "Task:\n",
    "-----\n",
    "Transform the SQL query result into a natural, conversational response. Follow these guidelines:\n",
    "\n",
    "- Start with a warm greeting and acknowledge the user's query.\n",
    "- Present the information in a clear, easy-to-understand manner.\n",
    "\n",
    "\n",
    "IMPORTANT Notes:\n",
    "----------------\n",
    "- Be courteous, empathetic, and maintain a conversational tone throughout.\n",
    "- Personalize the response when possible, using the customer's name if provided.\n",
    "- Avoid technical jargon or overly formal language.\n",
    "- If the answer doesn't require a tabular structure, present it in a natural, flowing text.\n",
    "- If no results are found, apologize politely and offer alternative suggestions or ask for more information.\n",
    "\n",
    "\n",
    "<|eot_id|><|start_header_id|>assistant<|end_header_id|>\n",
    "\"\"\",\n",
    "    input_variables=[\"user_query\", \"sql_response\"],\n",
    ")\n",
    "\n",
    "response_llm = prompt | llm | StrOutputParser()\n",
    "response = response_llm.invoke({\"user_query\": user_query, \"sql_response\": result})\n",
    "print(response)"
   ]
  },
  {
   "cell_type": "markdown",
   "metadata": {},
   "source": [
    "## Final result"
   ]
  },
  {
   "cell_type": "code",
   "execution_count": 48,
   "metadata": {},
   "outputs": [],
   "source": [
    "import json\n",
    "\n",
    "def get_response(user_query: str) -> str:\n",
    "    \"\"\"\n",
    "    Returns a response to the user's query based on the user's input.\n",
    "    Args:\n",
    "        user_query (str): The user's query.\n",
    "    Returns:\n",
    "        str: The response to the user's query.\n",
    "    \"\"\"\n",
    "    # Get intent\n",
    "    intent = detect_intent.invoke({\"user_query\": user_query, \"document\": doc_int})\n",
    "    print(f\"Intent detected: {json.dumps(intent, indent=2)}\")\n",
    "\n",
    "    # Detect entities\n",
    "    ner = ner_detect.invoke({\"user_query\": user_query, \"document\": doc})\n",
    "    print(\"=\"*50)\n",
    "    print(f\"Entities detected: {json.dumps(ner, indent=2)}\")\n",
    "\n",
    "    # Map intent to tables\n",
    "    result_map = detect_map.invoke({\"intent\": intent[\"intent\"], \"document\": doc_map})\n",
    "    print(\"=\"*50)\n",
    "    print(f\"Tables mapped: {json.dumps(result_map, indent=2)}\")\n",
    "\n",
    "    # Generate SQL query\n",
    "    sql_gen = sql_generate.invoke(\n",
    "        {\n",
    "            \"intent\": intent[\"intent\"], \n",
    "            \"entities\": ner, \n",
    "            \"tables\": result_map, \n",
    "            \"user_query\": user_query, \n",
    "            \"table_schemas\": context[\"table_info\"]\n",
    "        }\n",
    "    )\n",
    "    print(\"=\"*50)\n",
    "    print(f\"SQL query generated: {sql_gen}\")\n",
    "\n",
    "    # Execute SQL query\n",
    "    result = db.run(sql_gen)\n",
    "    print(\"=\"*50)\n",
    "    print(f\"SQL query result: {json.dumps(result, indent=2)}\")\n",
    "\n",
    "    # Generate response\n",
    "    response = response_llm.invoke({\"user_query\": user_query, \"sql_response\": result})\n",
    "    print(\"=\"*50)\n",
    "    print(f\"\\n{response}\")"
   ]
  },
  {
   "cell_type": "code",
   "execution_count": 40,
   "metadata": {},
   "outputs": [
    {
     "name": "stdout",
     "output_type": "stream",
     "text": [
      "Intent detected: {\n",
      "  \"intent\": \"LOCATE_NEAREST_AIRPORT\"\n",
      "}\n",
      "==================================================\n",
      "Entities detected: {\n",
      "  \"Airport\": \"Dubai International Airport\"\n",
      "}\n",
      "==================================================\n",
      "Tables mapped: \"airports_data\"\n",
      "==================================================\n",
      "SQL query generated: SELECT a.airport_name, a.city, a.coordinates\n",
      "FROM airports_data a\n",
      "WHERE a.airport_name LIKE '%Dubai International Airport'\n",
      "ORDER BY (SELECT AVG(r.range) FROM aircrafts_data r WHERE r.aircraft_code IN (SELECT sf.aircraft_code FROM seats s JOIN ticket_flights sf ON s.aircraft_code = sf.aircraft_code WHERE sf.fare_conditions = 'Business')) ASC\n",
      "LIMIT 1;\n"
     ]
    },
    {
     "ename": "OperationalError",
     "evalue": "(sqlite3.OperationalError) no such column: sf.aircraft_code\n[SQL: SELECT a.airport_name, a.city, a.coordinates\nFROM airports_data a\nWHERE a.airport_name LIKE '%Dubai International Airport'\nORDER BY (SELECT AVG(r.range) FROM aircrafts_data r WHERE r.aircraft_code IN (SELECT sf.aircraft_code FROM seats s JOIN ticket_flights sf ON s.aircraft_code = sf.aircraft_code WHERE sf.fare_conditions = 'Business')) ASC\nLIMIT 1;]\n(Background on this error at: https://sqlalche.me/e/20/e3q8)",
     "output_type": "error",
     "traceback": [
      "\u001b[0;31m---------------------------------------------------------------------------\u001b[0m",
      "\u001b[0;31mOperationalError\u001b[0m                          Traceback (most recent call last)",
      "File \u001b[0;32m~/environment/llm/lib/python3.10/site-packages/sqlalchemy/engine/base.py:1967\u001b[0m, in \u001b[0;36mConnection._exec_single_context\u001b[0;34m(self, dialect, context, statement, parameters)\u001b[0m\n\u001b[1;32m   1966\u001b[0m     \u001b[38;5;28;01mif\u001b[39;00m \u001b[38;5;129;01mnot\u001b[39;00m evt_handled:\n\u001b[0;32m-> 1967\u001b[0m         \u001b[38;5;28;43mself\u001b[39;49m\u001b[38;5;241;43m.\u001b[39;49m\u001b[43mdialect\u001b[49m\u001b[38;5;241;43m.\u001b[39;49m\u001b[43mdo_execute\u001b[49m\u001b[43m(\u001b[49m\n\u001b[1;32m   1968\u001b[0m \u001b[43m            \u001b[49m\u001b[43mcursor\u001b[49m\u001b[43m,\u001b[49m\u001b[43m \u001b[49m\u001b[43mstr_statement\u001b[49m\u001b[43m,\u001b[49m\u001b[43m \u001b[49m\u001b[43meffective_parameters\u001b[49m\u001b[43m,\u001b[49m\u001b[43m \u001b[49m\u001b[43mcontext\u001b[49m\n\u001b[1;32m   1969\u001b[0m \u001b[43m        \u001b[49m\u001b[43m)\u001b[49m\n\u001b[1;32m   1971\u001b[0m \u001b[38;5;28;01mif\u001b[39;00m \u001b[38;5;28mself\u001b[39m\u001b[38;5;241m.\u001b[39m_has_events \u001b[38;5;129;01mor\u001b[39;00m \u001b[38;5;28mself\u001b[39m\u001b[38;5;241m.\u001b[39mengine\u001b[38;5;241m.\u001b[39m_has_events:\n",
      "File \u001b[0;32m~/environment/llm/lib/python3.10/site-packages/sqlalchemy/engine/default.py:924\u001b[0m, in \u001b[0;36mDefaultDialect.do_execute\u001b[0;34m(self, cursor, statement, parameters, context)\u001b[0m\n\u001b[1;32m    923\u001b[0m \u001b[38;5;28;01mdef\u001b[39;00m \u001b[38;5;21mdo_execute\u001b[39m(\u001b[38;5;28mself\u001b[39m, cursor, statement, parameters, context\u001b[38;5;241m=\u001b[39m\u001b[38;5;28;01mNone\u001b[39;00m):\n\u001b[0;32m--> 924\u001b[0m     \u001b[43mcursor\u001b[49m\u001b[38;5;241;43m.\u001b[39;49m\u001b[43mexecute\u001b[49m\u001b[43m(\u001b[49m\u001b[43mstatement\u001b[49m\u001b[43m,\u001b[49m\u001b[43m \u001b[49m\u001b[43mparameters\u001b[49m\u001b[43m)\u001b[49m\n",
      "\u001b[0;31mOperationalError\u001b[0m: no such column: sf.aircraft_code",
      "\nThe above exception was the direct cause of the following exception:\n",
      "\u001b[0;31mOperationalError\u001b[0m                          Traceback (most recent call last)",
      "Cell \u001b[0;32mIn[40], line 1\u001b[0m\n\u001b[0;32m----> 1\u001b[0m \u001b[43mget_response\u001b[49m\u001b[43m(\u001b[49m\u001b[38;5;124;43m\"\u001b[39;49m\u001b[38;5;124;43mCan you tell me the nearest airport to Dubai Mall?\u001b[39;49m\u001b[38;5;124;43m\"\u001b[39;49m\u001b[43m)\u001b[49m\n",
      "Cell \u001b[0;32mIn[39], line 39\u001b[0m, in \u001b[0;36mget_response\u001b[0;34m(user_query)\u001b[0m\n\u001b[1;32m     36\u001b[0m \u001b[38;5;28mprint\u001b[39m(\u001b[38;5;124mf\u001b[39m\u001b[38;5;124m\"\u001b[39m\u001b[38;5;124mSQL query generated: \u001b[39m\u001b[38;5;132;01m{\u001b[39;00msql_gen\u001b[38;5;132;01m}\u001b[39;00m\u001b[38;5;124m\"\u001b[39m)\n\u001b[1;32m     38\u001b[0m \u001b[38;5;66;03m# Execute SQL query\u001b[39;00m\n\u001b[0;32m---> 39\u001b[0m result \u001b[38;5;241m=\u001b[39m \u001b[43mdb\u001b[49m\u001b[38;5;241;43m.\u001b[39;49m\u001b[43mrun\u001b[49m\u001b[43m(\u001b[49m\u001b[43msql_gen\u001b[49m\u001b[43m)\u001b[49m\n\u001b[1;32m     40\u001b[0m \u001b[38;5;28mprint\u001b[39m(\u001b[38;5;124m\"\u001b[39m\u001b[38;5;124m=\u001b[39m\u001b[38;5;124m\"\u001b[39m\u001b[38;5;241m*\u001b[39m\u001b[38;5;241m50\u001b[39m)\n\u001b[1;32m     41\u001b[0m \u001b[38;5;28mprint\u001b[39m(\u001b[38;5;124mf\u001b[39m\u001b[38;5;124m\"\u001b[39m\u001b[38;5;124mSQL query result: \u001b[39m\u001b[38;5;132;01m{\u001b[39;00mjson\u001b[38;5;241m.\u001b[39mdumps(result,\u001b[38;5;250m \u001b[39mindent\u001b[38;5;241m=\u001b[39m\u001b[38;5;241m2\u001b[39m)\u001b[38;5;132;01m}\u001b[39;00m\u001b[38;5;124m\"\u001b[39m)\n",
      "File \u001b[0;32m~/environment/llm/lib/python3.10/site-packages/langchain_community/utilities/sql_database.py:501\u001b[0m, in \u001b[0;36mSQLDatabase.run\u001b[0;34m(self, command, fetch, include_columns, parameters, execution_options)\u001b[0m\n\u001b[1;32m    487\u001b[0m \u001b[38;5;28;01mdef\u001b[39;00m \u001b[38;5;21mrun\u001b[39m(\n\u001b[1;32m    488\u001b[0m     \u001b[38;5;28mself\u001b[39m,\n\u001b[1;32m    489\u001b[0m     command: Union[\u001b[38;5;28mstr\u001b[39m, Executable],\n\u001b[0;32m   (...)\u001b[0m\n\u001b[1;32m    494\u001b[0m     execution_options: Optional[Dict[\u001b[38;5;28mstr\u001b[39m, Any]] \u001b[38;5;241m=\u001b[39m \u001b[38;5;28;01mNone\u001b[39;00m,\n\u001b[1;32m    495\u001b[0m ) \u001b[38;5;241m-\u001b[39m\u001b[38;5;241m>\u001b[39m Union[\u001b[38;5;28mstr\u001b[39m, Sequence[Dict[\u001b[38;5;28mstr\u001b[39m, Any]], Result[Any]]:\n\u001b[1;32m    496\u001b[0m \u001b[38;5;250m    \u001b[39m\u001b[38;5;124;03m\"\"\"Execute a SQL command and return a string representing the results.\u001b[39;00m\n\u001b[1;32m    497\u001b[0m \n\u001b[1;32m    498\u001b[0m \u001b[38;5;124;03m    If the statement returns rows, a string of the results is returned.\u001b[39;00m\n\u001b[1;32m    499\u001b[0m \u001b[38;5;124;03m    If the statement returns no rows, an empty string is returned.\u001b[39;00m\n\u001b[1;32m    500\u001b[0m \u001b[38;5;124;03m    \"\"\"\u001b[39;00m\n\u001b[0;32m--> 501\u001b[0m     result \u001b[38;5;241m=\u001b[39m \u001b[38;5;28;43mself\u001b[39;49m\u001b[38;5;241;43m.\u001b[39;49m\u001b[43m_execute\u001b[49m\u001b[43m(\u001b[49m\n\u001b[1;32m    502\u001b[0m \u001b[43m        \u001b[49m\u001b[43mcommand\u001b[49m\u001b[43m,\u001b[49m\u001b[43m \u001b[49m\u001b[43mfetch\u001b[49m\u001b[43m,\u001b[49m\u001b[43m \u001b[49m\u001b[43mparameters\u001b[49m\u001b[38;5;241;43m=\u001b[39;49m\u001b[43mparameters\u001b[49m\u001b[43m,\u001b[49m\u001b[43m \u001b[49m\u001b[43mexecution_options\u001b[49m\u001b[38;5;241;43m=\u001b[39;49m\u001b[43mexecution_options\u001b[49m\n\u001b[1;32m    503\u001b[0m \u001b[43m    \u001b[49m\u001b[43m)\u001b[49m\n\u001b[1;32m    505\u001b[0m     \u001b[38;5;28;01mif\u001b[39;00m fetch \u001b[38;5;241m==\u001b[39m \u001b[38;5;124m\"\u001b[39m\u001b[38;5;124mcursor\u001b[39m\u001b[38;5;124m\"\u001b[39m:\n\u001b[1;32m    506\u001b[0m         \u001b[38;5;28;01mreturn\u001b[39;00m result\n",
      "File \u001b[0;32m~/environment/llm/lib/python3.10/site-packages/langchain_community/utilities/sql_database.py:466\u001b[0m, in \u001b[0;36mSQLDatabase._execute\u001b[0;34m(self, command, fetch, parameters, execution_options)\u001b[0m\n\u001b[1;32m    464\u001b[0m \u001b[38;5;28;01melse\u001b[39;00m:\n\u001b[1;32m    465\u001b[0m     \u001b[38;5;28;01mraise\u001b[39;00m \u001b[38;5;167;01mTypeError\u001b[39;00m(\u001b[38;5;124mf\u001b[39m\u001b[38;5;124m\"\u001b[39m\u001b[38;5;124mQuery expression has unknown type: \u001b[39m\u001b[38;5;132;01m{\u001b[39;00m\u001b[38;5;28mtype\u001b[39m(command)\u001b[38;5;132;01m}\u001b[39;00m\u001b[38;5;124m\"\u001b[39m)\n\u001b[0;32m--> 466\u001b[0m cursor \u001b[38;5;241m=\u001b[39m \u001b[43mconnection\u001b[49m\u001b[38;5;241;43m.\u001b[39;49m\u001b[43mexecute\u001b[49m\u001b[43m(\u001b[49m\n\u001b[1;32m    467\u001b[0m \u001b[43m    \u001b[49m\u001b[43mcommand\u001b[49m\u001b[43m,\u001b[49m\n\u001b[1;32m    468\u001b[0m \u001b[43m    \u001b[49m\u001b[43mparameters\u001b[49m\u001b[43m,\u001b[49m\n\u001b[1;32m    469\u001b[0m \u001b[43m    \u001b[49m\u001b[43mexecution_options\u001b[49m\u001b[38;5;241;43m=\u001b[39;49m\u001b[43mexecution_options\u001b[49m\u001b[43m,\u001b[49m\n\u001b[1;32m    470\u001b[0m \u001b[43m\u001b[49m\u001b[43m)\u001b[49m\n\u001b[1;32m    472\u001b[0m \u001b[38;5;28;01mif\u001b[39;00m cursor\u001b[38;5;241m.\u001b[39mreturns_rows:\n\u001b[1;32m    473\u001b[0m     \u001b[38;5;28;01mif\u001b[39;00m fetch \u001b[38;5;241m==\u001b[39m \u001b[38;5;124m\"\u001b[39m\u001b[38;5;124mall\u001b[39m\u001b[38;5;124m\"\u001b[39m:\n",
      "File \u001b[0;32m~/environment/llm/lib/python3.10/site-packages/sqlalchemy/engine/base.py:1418\u001b[0m, in \u001b[0;36mConnection.execute\u001b[0;34m(self, statement, parameters, execution_options)\u001b[0m\n\u001b[1;32m   1416\u001b[0m     \u001b[38;5;28;01mraise\u001b[39;00m exc\u001b[38;5;241m.\u001b[39mObjectNotExecutableError(statement) \u001b[38;5;28;01mfrom\u001b[39;00m \u001b[38;5;21;01merr\u001b[39;00m\n\u001b[1;32m   1417\u001b[0m \u001b[38;5;28;01melse\u001b[39;00m:\n\u001b[0;32m-> 1418\u001b[0m     \u001b[38;5;28;01mreturn\u001b[39;00m \u001b[43mmeth\u001b[49m\u001b[43m(\u001b[49m\n\u001b[1;32m   1419\u001b[0m \u001b[43m        \u001b[49m\u001b[38;5;28;43mself\u001b[39;49m\u001b[43m,\u001b[49m\n\u001b[1;32m   1420\u001b[0m \u001b[43m        \u001b[49m\u001b[43mdistilled_parameters\u001b[49m\u001b[43m,\u001b[49m\n\u001b[1;32m   1421\u001b[0m \u001b[43m        \u001b[49m\u001b[43mexecution_options\u001b[49m\u001b[43m \u001b[49m\u001b[38;5;129;43;01mor\u001b[39;49;00m\u001b[43m \u001b[49m\u001b[43mNO_OPTIONS\u001b[49m\u001b[43m,\u001b[49m\n\u001b[1;32m   1422\u001b[0m \u001b[43m    \u001b[49m\u001b[43m)\u001b[49m\n",
      "File \u001b[0;32m~/environment/llm/lib/python3.10/site-packages/sqlalchemy/sql/elements.py:515\u001b[0m, in \u001b[0;36mClauseElement._execute_on_connection\u001b[0;34m(self, connection, distilled_params, execution_options)\u001b[0m\n\u001b[1;32m    513\u001b[0m     \u001b[38;5;28;01mif\u001b[39;00m TYPE_CHECKING:\n\u001b[1;32m    514\u001b[0m         \u001b[38;5;28;01massert\u001b[39;00m \u001b[38;5;28misinstance\u001b[39m(\u001b[38;5;28mself\u001b[39m, Executable)\n\u001b[0;32m--> 515\u001b[0m     \u001b[38;5;28;01mreturn\u001b[39;00m \u001b[43mconnection\u001b[49m\u001b[38;5;241;43m.\u001b[39;49m\u001b[43m_execute_clauseelement\u001b[49m\u001b[43m(\u001b[49m\n\u001b[1;32m    516\u001b[0m \u001b[43m        \u001b[49m\u001b[38;5;28;43mself\u001b[39;49m\u001b[43m,\u001b[49m\u001b[43m \u001b[49m\u001b[43mdistilled_params\u001b[49m\u001b[43m,\u001b[49m\u001b[43m \u001b[49m\u001b[43mexecution_options\u001b[49m\n\u001b[1;32m    517\u001b[0m \u001b[43m    \u001b[49m\u001b[43m)\u001b[49m\n\u001b[1;32m    518\u001b[0m \u001b[38;5;28;01melse\u001b[39;00m:\n\u001b[1;32m    519\u001b[0m     \u001b[38;5;28;01mraise\u001b[39;00m exc\u001b[38;5;241m.\u001b[39mObjectNotExecutableError(\u001b[38;5;28mself\u001b[39m)\n",
      "File \u001b[0;32m~/environment/llm/lib/python3.10/site-packages/sqlalchemy/engine/base.py:1640\u001b[0m, in \u001b[0;36mConnection._execute_clauseelement\u001b[0;34m(self, elem, distilled_parameters, execution_options)\u001b[0m\n\u001b[1;32m   1628\u001b[0m compiled_cache: Optional[CompiledCacheType] \u001b[38;5;241m=\u001b[39m execution_options\u001b[38;5;241m.\u001b[39mget(\n\u001b[1;32m   1629\u001b[0m     \u001b[38;5;124m\"\u001b[39m\u001b[38;5;124mcompiled_cache\u001b[39m\u001b[38;5;124m\"\u001b[39m, \u001b[38;5;28mself\u001b[39m\u001b[38;5;241m.\u001b[39mengine\u001b[38;5;241m.\u001b[39m_compiled_cache\n\u001b[1;32m   1630\u001b[0m )\n\u001b[1;32m   1632\u001b[0m compiled_sql, extracted_params, cache_hit \u001b[38;5;241m=\u001b[39m elem\u001b[38;5;241m.\u001b[39m_compile_w_cache(\n\u001b[1;32m   1633\u001b[0m     dialect\u001b[38;5;241m=\u001b[39mdialect,\n\u001b[1;32m   1634\u001b[0m     compiled_cache\u001b[38;5;241m=\u001b[39mcompiled_cache,\n\u001b[0;32m   (...)\u001b[0m\n\u001b[1;32m   1638\u001b[0m     linting\u001b[38;5;241m=\u001b[39m\u001b[38;5;28mself\u001b[39m\u001b[38;5;241m.\u001b[39mdialect\u001b[38;5;241m.\u001b[39mcompiler_linting \u001b[38;5;241m|\u001b[39m compiler\u001b[38;5;241m.\u001b[39mWARN_LINTING,\n\u001b[1;32m   1639\u001b[0m )\n\u001b[0;32m-> 1640\u001b[0m ret \u001b[38;5;241m=\u001b[39m \u001b[38;5;28;43mself\u001b[39;49m\u001b[38;5;241;43m.\u001b[39;49m\u001b[43m_execute_context\u001b[49m\u001b[43m(\u001b[49m\n\u001b[1;32m   1641\u001b[0m \u001b[43m    \u001b[49m\u001b[43mdialect\u001b[49m\u001b[43m,\u001b[49m\n\u001b[1;32m   1642\u001b[0m \u001b[43m    \u001b[49m\u001b[43mdialect\u001b[49m\u001b[38;5;241;43m.\u001b[39;49m\u001b[43mexecution_ctx_cls\u001b[49m\u001b[38;5;241;43m.\u001b[39;49m\u001b[43m_init_compiled\u001b[49m\u001b[43m,\u001b[49m\n\u001b[1;32m   1643\u001b[0m \u001b[43m    \u001b[49m\u001b[43mcompiled_sql\u001b[49m\u001b[43m,\u001b[49m\n\u001b[1;32m   1644\u001b[0m \u001b[43m    \u001b[49m\u001b[43mdistilled_parameters\u001b[49m\u001b[43m,\u001b[49m\n\u001b[1;32m   1645\u001b[0m \u001b[43m    \u001b[49m\u001b[43mexecution_options\u001b[49m\u001b[43m,\u001b[49m\n\u001b[1;32m   1646\u001b[0m \u001b[43m    \u001b[49m\u001b[43mcompiled_sql\u001b[49m\u001b[43m,\u001b[49m\n\u001b[1;32m   1647\u001b[0m \u001b[43m    \u001b[49m\u001b[43mdistilled_parameters\u001b[49m\u001b[43m,\u001b[49m\n\u001b[1;32m   1648\u001b[0m \u001b[43m    \u001b[49m\u001b[43melem\u001b[49m\u001b[43m,\u001b[49m\n\u001b[1;32m   1649\u001b[0m \u001b[43m    \u001b[49m\u001b[43mextracted_params\u001b[49m\u001b[43m,\u001b[49m\n\u001b[1;32m   1650\u001b[0m \u001b[43m    \u001b[49m\u001b[43mcache_hit\u001b[49m\u001b[38;5;241;43m=\u001b[39;49m\u001b[43mcache_hit\u001b[49m\u001b[43m,\u001b[49m\n\u001b[1;32m   1651\u001b[0m \u001b[43m\u001b[49m\u001b[43m)\u001b[49m\n\u001b[1;32m   1652\u001b[0m \u001b[38;5;28;01mif\u001b[39;00m has_events:\n\u001b[1;32m   1653\u001b[0m     \u001b[38;5;28mself\u001b[39m\u001b[38;5;241m.\u001b[39mdispatch\u001b[38;5;241m.\u001b[39mafter_execute(\n\u001b[1;32m   1654\u001b[0m         \u001b[38;5;28mself\u001b[39m,\n\u001b[1;32m   1655\u001b[0m         elem,\n\u001b[0;32m   (...)\u001b[0m\n\u001b[1;32m   1659\u001b[0m         ret,\n\u001b[1;32m   1660\u001b[0m     )\n",
      "File \u001b[0;32m~/environment/llm/lib/python3.10/site-packages/sqlalchemy/engine/base.py:1846\u001b[0m, in \u001b[0;36mConnection._execute_context\u001b[0;34m(self, dialect, constructor, statement, parameters, execution_options, *args, **kw)\u001b[0m\n\u001b[1;32m   1844\u001b[0m     \u001b[38;5;28;01mreturn\u001b[39;00m \u001b[38;5;28mself\u001b[39m\u001b[38;5;241m.\u001b[39m_exec_insertmany_context(dialect, context)\n\u001b[1;32m   1845\u001b[0m \u001b[38;5;28;01melse\u001b[39;00m:\n\u001b[0;32m-> 1846\u001b[0m     \u001b[38;5;28;01mreturn\u001b[39;00m \u001b[38;5;28;43mself\u001b[39;49m\u001b[38;5;241;43m.\u001b[39;49m\u001b[43m_exec_single_context\u001b[49m\u001b[43m(\u001b[49m\n\u001b[1;32m   1847\u001b[0m \u001b[43m        \u001b[49m\u001b[43mdialect\u001b[49m\u001b[43m,\u001b[49m\u001b[43m \u001b[49m\u001b[43mcontext\u001b[49m\u001b[43m,\u001b[49m\u001b[43m \u001b[49m\u001b[43mstatement\u001b[49m\u001b[43m,\u001b[49m\u001b[43m \u001b[49m\u001b[43mparameters\u001b[49m\n\u001b[1;32m   1848\u001b[0m \u001b[43m    \u001b[49m\u001b[43m)\u001b[49m\n",
      "File \u001b[0;32m~/environment/llm/lib/python3.10/site-packages/sqlalchemy/engine/base.py:1986\u001b[0m, in \u001b[0;36mConnection._exec_single_context\u001b[0;34m(self, dialect, context, statement, parameters)\u001b[0m\n\u001b[1;32m   1983\u001b[0m     result \u001b[38;5;241m=\u001b[39m context\u001b[38;5;241m.\u001b[39m_setup_result_proxy()\n\u001b[1;32m   1985\u001b[0m \u001b[38;5;28;01mexcept\u001b[39;00m \u001b[38;5;167;01mBaseException\u001b[39;00m \u001b[38;5;28;01mas\u001b[39;00m e:\n\u001b[0;32m-> 1986\u001b[0m     \u001b[38;5;28;43mself\u001b[39;49m\u001b[38;5;241;43m.\u001b[39;49m\u001b[43m_handle_dbapi_exception\u001b[49m\u001b[43m(\u001b[49m\n\u001b[1;32m   1987\u001b[0m \u001b[43m        \u001b[49m\u001b[43me\u001b[49m\u001b[43m,\u001b[49m\u001b[43m \u001b[49m\u001b[43mstr_statement\u001b[49m\u001b[43m,\u001b[49m\u001b[43m \u001b[49m\u001b[43meffective_parameters\u001b[49m\u001b[43m,\u001b[49m\u001b[43m \u001b[49m\u001b[43mcursor\u001b[49m\u001b[43m,\u001b[49m\u001b[43m \u001b[49m\u001b[43mcontext\u001b[49m\n\u001b[1;32m   1988\u001b[0m \u001b[43m    \u001b[49m\u001b[43m)\u001b[49m\n\u001b[1;32m   1990\u001b[0m \u001b[38;5;28;01mreturn\u001b[39;00m result\n",
      "File \u001b[0;32m~/environment/llm/lib/python3.10/site-packages/sqlalchemy/engine/base.py:2353\u001b[0m, in \u001b[0;36mConnection._handle_dbapi_exception\u001b[0;34m(self, e, statement, parameters, cursor, context, is_sub_exec)\u001b[0m\n\u001b[1;32m   2351\u001b[0m \u001b[38;5;28;01melif\u001b[39;00m should_wrap:\n\u001b[1;32m   2352\u001b[0m     \u001b[38;5;28;01massert\u001b[39;00m sqlalchemy_exception \u001b[38;5;129;01mis\u001b[39;00m \u001b[38;5;129;01mnot\u001b[39;00m \u001b[38;5;28;01mNone\u001b[39;00m\n\u001b[0;32m-> 2353\u001b[0m     \u001b[38;5;28;01mraise\u001b[39;00m sqlalchemy_exception\u001b[38;5;241m.\u001b[39mwith_traceback(exc_info[\u001b[38;5;241m2\u001b[39m]) \u001b[38;5;28;01mfrom\u001b[39;00m \u001b[38;5;21;01me\u001b[39;00m\n\u001b[1;32m   2354\u001b[0m \u001b[38;5;28;01melse\u001b[39;00m:\n\u001b[1;32m   2355\u001b[0m     \u001b[38;5;28;01massert\u001b[39;00m exc_info[\u001b[38;5;241m1\u001b[39m] \u001b[38;5;129;01mis\u001b[39;00m \u001b[38;5;129;01mnot\u001b[39;00m \u001b[38;5;28;01mNone\u001b[39;00m\n",
      "File \u001b[0;32m~/environment/llm/lib/python3.10/site-packages/sqlalchemy/engine/base.py:1967\u001b[0m, in \u001b[0;36mConnection._exec_single_context\u001b[0;34m(self, dialect, context, statement, parameters)\u001b[0m\n\u001b[1;32m   1965\u001b[0m                 \u001b[38;5;28;01mbreak\u001b[39;00m\n\u001b[1;32m   1966\u001b[0m     \u001b[38;5;28;01mif\u001b[39;00m \u001b[38;5;129;01mnot\u001b[39;00m evt_handled:\n\u001b[0;32m-> 1967\u001b[0m         \u001b[38;5;28;43mself\u001b[39;49m\u001b[38;5;241;43m.\u001b[39;49m\u001b[43mdialect\u001b[49m\u001b[38;5;241;43m.\u001b[39;49m\u001b[43mdo_execute\u001b[49m\u001b[43m(\u001b[49m\n\u001b[1;32m   1968\u001b[0m \u001b[43m            \u001b[49m\u001b[43mcursor\u001b[49m\u001b[43m,\u001b[49m\u001b[43m \u001b[49m\u001b[43mstr_statement\u001b[49m\u001b[43m,\u001b[49m\u001b[43m \u001b[49m\u001b[43meffective_parameters\u001b[49m\u001b[43m,\u001b[49m\u001b[43m \u001b[49m\u001b[43mcontext\u001b[49m\n\u001b[1;32m   1969\u001b[0m \u001b[43m        \u001b[49m\u001b[43m)\u001b[49m\n\u001b[1;32m   1971\u001b[0m \u001b[38;5;28;01mif\u001b[39;00m \u001b[38;5;28mself\u001b[39m\u001b[38;5;241m.\u001b[39m_has_events \u001b[38;5;129;01mor\u001b[39;00m \u001b[38;5;28mself\u001b[39m\u001b[38;5;241m.\u001b[39mengine\u001b[38;5;241m.\u001b[39m_has_events:\n\u001b[1;32m   1972\u001b[0m     \u001b[38;5;28mself\u001b[39m\u001b[38;5;241m.\u001b[39mdispatch\u001b[38;5;241m.\u001b[39mafter_cursor_execute(\n\u001b[1;32m   1973\u001b[0m         \u001b[38;5;28mself\u001b[39m,\n\u001b[1;32m   1974\u001b[0m         cursor,\n\u001b[0;32m   (...)\u001b[0m\n\u001b[1;32m   1978\u001b[0m         context\u001b[38;5;241m.\u001b[39mexecutemany,\n\u001b[1;32m   1979\u001b[0m     )\n",
      "File \u001b[0;32m~/environment/llm/lib/python3.10/site-packages/sqlalchemy/engine/default.py:924\u001b[0m, in \u001b[0;36mDefaultDialect.do_execute\u001b[0;34m(self, cursor, statement, parameters, context)\u001b[0m\n\u001b[1;32m    923\u001b[0m \u001b[38;5;28;01mdef\u001b[39;00m \u001b[38;5;21mdo_execute\u001b[39m(\u001b[38;5;28mself\u001b[39m, cursor, statement, parameters, context\u001b[38;5;241m=\u001b[39m\u001b[38;5;28;01mNone\u001b[39;00m):\n\u001b[0;32m--> 924\u001b[0m     \u001b[43mcursor\u001b[49m\u001b[38;5;241;43m.\u001b[39;49m\u001b[43mexecute\u001b[49m\u001b[43m(\u001b[49m\u001b[43mstatement\u001b[49m\u001b[43m,\u001b[49m\u001b[43m \u001b[49m\u001b[43mparameters\u001b[49m\u001b[43m)\u001b[49m\n",
      "\u001b[0;31mOperationalError\u001b[0m: (sqlite3.OperationalError) no such column: sf.aircraft_code\n[SQL: SELECT a.airport_name, a.city, a.coordinates\nFROM airports_data a\nWHERE a.airport_name LIKE '%Dubai International Airport'\nORDER BY (SELECT AVG(r.range) FROM aircrafts_data r WHERE r.aircraft_code IN (SELECT sf.aircraft_code FROM seats s JOIN ticket_flights sf ON s.aircraft_code = sf.aircraft_code WHERE sf.fare_conditions = 'Business')) ASC\nLIMIT 1;]\n(Background on this error at: https://sqlalche.me/e/20/e3q8)"
     ]
    }
   ],
   "source": [
    "get_response(\"Can you tell me the nearest airport to Dubai Mall?\")"
   ]
  },
  {
   "cell_type": "code",
   "execution_count": 49,
   "metadata": {},
   "outputs": [
    {
     "name": "stdout",
     "output_type": "stream",
     "text": [
      "Intent detected: {\n",
      "  \"intent\": \"INQUIRE_SEAT_AVAILABILITY\"\n",
      "}\n",
      "==================================================\n",
      "Entities detected: {\n",
      "  \"entities\": {\n",
      "    \"Aircraft\": \"SU9\",\n",
      "    \"Attribute\": \"Business Class Seats\",\n",
      "    \"Comparison\": \"Count\"\n",
      "  }\n",
      "}\n",
      "==================================================\n",
      "Tables mapped: \"hotels|trip_recommendations|flights|seats\"\n",
      "==================================================\n",
      "SQL query generated: SELECT COUNT(*)\n",
      "FROM seats\n",
      "WHERE aircraft_code = 'SU9' AND fare_conditions = 'Business';\n",
      "==================================================\n",
      "SQL query result: \"[(12,)]\"\n",
      "==================================================\n",
      "\n",
      "Hello there! Thank you for reaching out to us with your question about our SU9 aircraft. I'm more than happy to help you with that.\n",
      "\n",
      "According to our records, the SU9 aircraft has a total of 12 business class seats. I hope that information is helpful for your travel planning. If you have any more questions or need further assistance, please don't hesitate to ask. I'm here to help make your travel experience with us as smooth and enjoyable as possible.\n"
     ]
    }
   ],
   "source": [
    "get_response(\"How many business class seats are there on the SU9 aircraft?\")"
   ]
  },
  {
   "cell_type": "markdown",
   "metadata": {},
   "source": [
    "As usual, llm still cannot execute complex queries. "
   ]
  }
 ],
 "metadata": {
  "kernelspec": {
   "display_name": "llm",
   "language": "python",
   "name": "python3"
  },
  "language_info": {
   "codemirror_mode": {
    "name": "ipython",
    "version": 3
   },
   "file_extension": ".py",
   "mimetype": "text/x-python",
   "name": "python",
   "nbconvert_exporter": "python",
   "pygments_lexer": "ipython3",
   "version": "3.10.12"
  }
 },
 "nbformat": 4,
 "nbformat_minor": 2
}
